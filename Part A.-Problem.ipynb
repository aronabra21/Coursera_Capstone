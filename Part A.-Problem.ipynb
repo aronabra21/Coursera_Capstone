{
    "cells": [
        {
            "metadata": {
                "collapsed": true
            },
            "cell_type": "markdown",
            "source": "# Problem description"
        },
        {
            "metadata": {},
            "cell_type": "markdown",
            "source": "#### ...the idea..."
        },
        {
            "metadata": {},
            "cell_type": "markdown",
            "source": "##### In the following section, an overview of the theoretical problem will be provided. \n#### Generally speaking, New York is one of the most desirable cities across the world, which is clearly shown by the real estate prises of the respective area. \n#### But what about the most visited place on Earth, the city of love, the french capital: Paris? \n### This duel will be legendary; we have to find out, just which of these places is better to invest in when it comes to holiday rentals and their respective Return on Investment(supposing that we would like to buy a place which we then rent out on Airbnb).\n\n##### Stay Tuned!\n\n"
        }
    ],
    "metadata": {
        "kernelspec": {
            "name": "python3",
            "display_name": "Python 3.6",
            "language": "python"
        },
        "language_info": {
            "name": "python",
            "version": "3.6.9",
            "mimetype": "text/x-python",
            "codemirror_mode": {
                "name": "ipython",
                "version": 3
            },
            "pygments_lexer": "ipython3",
            "nbconvert_exporter": "python",
            "file_extension": ".py"
        }
    },
    "nbformat": 4,
    "nbformat_minor": 1
}