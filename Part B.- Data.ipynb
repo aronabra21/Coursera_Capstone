{
    "cells": [
        {
            "metadata": {
                "collapsed": true
            },
            "cell_type": "markdown",
            "source": "# Data: WHAT will be used and WHY"
        },
        {
            "metadata": {},
            "cell_type": "markdown",
            "source": "### The data that was chosen for usage is the following: \n##### 1. The venues data of the center of New York and Paris by Foursquare calls\n##### 2. The average home prices of 2019 in New York : http://data.insideairbnb.com/united-states/ny/new-york-city/2020-03-13/visualisations/listings.csv\n##### 3. The listing prices of 2019 in Paris : http://data.insideairbnb.com/france/ile-de-france/paris/2020-03-15/visualisations/listings.csv\n\n#### Explanation of choice:\n##### The reason why I chose these datasets is because these are published by the most popular rental page nowadays, Airbnb, which will hopefully lead to a fair set of results regarding its ability to accurately represent reality. \n##### As of the data usage, it will be utilised to compare the two ci\n\n\n##### Note that all of the above data are leveraged from InsiderAirbnb's database.\n"
        }
    ],
    "metadata": {
        "kernelspec": {
            "name": "python3",
            "display_name": "Python 3.6",
            "language": "python"
        },
        "language_info": {
            "name": "python",
            "version": "3.6.9",
            "mimetype": "text/x-python",
            "codemirror_mode": {
                "name": "ipython",
                "version": 3
            },
            "pygments_lexer": "ipython3",
            "nbconvert_exporter": "python",
            "file_extension": ".py"
        }
    },
    "nbformat": 4,
    "nbformat_minor": 1
}